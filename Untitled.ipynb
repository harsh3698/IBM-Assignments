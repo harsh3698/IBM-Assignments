{
 "cells": [
  {
   "cell_type": "markdown",
   "id": "8a990eb3-0b53-4b67-8a30-9e9047461b4b",
   "metadata": {},
   "source": [
    "# My Jupyter Notebook on IBM Watson"
   ]
  },
  {
   "cell_type": "markdown",
   "id": "a7344b63-0640-4371-a479-1f4fbc684410",
   "metadata": {},
   "source": [
    "My name is **Harsh**\n",
    "Currently I am a Systems Engineer with an IT mcs and would like to work in data science"
   ]
  },
  {
   "cell_type": "markdown",
   "id": "ed237cd0-143b-436b-b07b-eb30e456a50e",
   "metadata": {},
   "source": [
    "*I am interested in data science because I like how we can decode pattern from just numbers and then use it to solve real life problems be it in any field you name it right from medical sciences to banking*"
   ]
  },
  {
   "cell_type": "code",
   "execution_count": 7,
   "id": "15bcca73-c428-48fe-bdf9-69f1354f44bf",
   "metadata": {},
   "outputs": [],
   "source": [
    "##### My code will print the sum of two numbers"
   ]
  },
  {
   "cell_type": "markdown",
   "id": "c29ca6eb-16d3-4eb6-956f-d6171df96573",
   "metadata": {},
   "source": [
    "1+1"
   ]
  },
  {
   "cell_type": "markdown",
   "id": "5bfa44b0-3e6d-49b8-9929-ea15a44b0867",
   "metadata": {},
   "source": [
    "1. First List\n",
    "2. Second List\n",
    "..* Sublist one\n",
    "* Unordered list\n",
    "~~Scratch it~~\n",
    "[Hello](https://"
   ]
  },
  {
   "cell_type": "code",
   "execution_count": null,
   "id": "11a3a3ce-2646-4c1f-807b-6484213be553",
   "metadata": {},
   "outputs": [],
   "source": []
  }
 ],
 "metadata": {
  "kernelspec": {
   "display_name": "Python 3",
   "language": "python",
   "name": "python3"
  },
  "language_info": {
   "codemirror_mode": {
    "name": "ipython",
    "version": 3
   },
   "file_extension": ".py",
   "mimetype": "text/x-python",
   "name": "python",
   "nbconvert_exporter": "python",
   "pygments_lexer": "ipython3",
   "version": "3.7.8"
  }
 },
 "nbformat": 4,
 "nbformat_minor": 5
}
